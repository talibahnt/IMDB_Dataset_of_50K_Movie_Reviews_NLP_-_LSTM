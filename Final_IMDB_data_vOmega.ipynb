{
 "cells": [
  {
   "cell_type": "markdown",
   "id": "ba589347-5bfa-4ac9-950e-02319f2e1d7c",
   "metadata": {},
   "source": [
    "# **IMDBDataset of 50K Movie Reviews**\n",
    "\n",
    "## **Natural Language Processing (NLP) & LSTM (Long Short-Term Memory)**\n",
    "\n",
    "-------------------------------\n",
    "## **Project Purpose** \n",
    "-------------------------------\n",
    "\n",
    "The purpose of this project is to perform a sentiment analysis on 50,000 movie reviews from the IMDB Dataset. Movies rely on consumers' sentiments to drive engagement through viewership and ticket sales, merchandising, social media, and other revenue streams.\n",
    "\n",
    "-------------------------------\n",
    "## **About IMDB Dataset** \n",
    "-------------------------------\n",
    "IMDB Dataset having 50K movie reviews for natural language processing or Text analytics.\n",
    "This is a dataset for binary sentiment classification containing substantially more data than previous benchmark datasets. We provide a set of 25,000 highly polar movie reviews for training and 25,000 for testing. So, predict the number of positive and negative reviews using either classification or deep learning algorithms.\n",
    "\n",
    "For more dataset information, please go through the following link:\n",
    "http://ai.stanford.edu/~amaas/data/sentiment/\n",
    "\n",
    "The dataset was pulled from Kaggle. The link is listed below:\n",
    "https://www.kaggle.com/datasets/lakshmi25npathi/imdb-dataset-of-50k-movie-reviews\n",
    "\n",
    "-------------------------------\n",
    "## **About IMDB** \n",
    "-------------------------------\n",
    "\n",
    "IMDb is the world's most popular and authoritative source for information on movies, TV shows, and celebrities. Hundreds of millions of customers all over the world rely on IMDb to discover and decide what to watch, advance their professional entertainment careers through IMDbPro, and grow their businesses using IMDb data and trending insights. Products and services to help fans discover and decide what to watch and where to watch it include: the IMDb website for desktop and mobile devices; apps for iOS and Android; and, X-Ray on Prime Video. For entertainment industry professionals, IMDb provides IMDbPro and Box Office Mojo. IMDb licenses information from its vast and authoritative database to third-party businesses worldwide; learn more at developer.imdb.com. IMDb is an Amazon company. For more information, visit https://www.imdb.com/press and follow @IMDb.\n",
    "\n",
    "Information about IMDB was pulled from its website:\n",
    "https://www.imdb.com/pressroom/about/"
   ]
  },
  {
   "cell_type": "code",
   "execution_count": 1,
   "id": "3c7f52e5-9d83-4438-a392-fa2743436a3f",
   "metadata": {},
   "outputs": [
    {
     "name": "stdout",
     "output_type": "stream",
     "text": [
      "Requirement already satisfied: kaggle in /opt/anaconda3/envs/dev/lib/python3.12/site-packages (1.7.4.5)\n",
      "Requirement already satisfied: bleach in /opt/anaconda3/envs/dev/lib/python3.12/site-packages (from kaggle) (4.1.0)\n",
      "Requirement already satisfied: certifi>=14.05.14 in /opt/anaconda3/envs/dev/lib/python3.12/site-packages (from kaggle) (2024.8.30)\n",
      "Requirement already satisfied: charset-normalizer in /opt/anaconda3/envs/dev/lib/python3.12/site-packages (from kaggle) (3.3.2)\n",
      "Requirement already satisfied: idna in /opt/anaconda3/envs/dev/lib/python3.12/site-packages (from kaggle) (3.7)\n",
      "Requirement already satisfied: protobuf in /opt/anaconda3/envs/dev/lib/python3.12/site-packages (from kaggle) (5.28.3)\n",
      "Requirement already satisfied: python-dateutil>=2.5.3 in /opt/anaconda3/envs/dev/lib/python3.12/site-packages (from kaggle) (2.9.0.post0)\n",
      "Requirement already satisfied: python-slugify in /opt/anaconda3/envs/dev/lib/python3.12/site-packages (from kaggle) (8.0.4)\n",
      "Requirement already satisfied: requests in /opt/anaconda3/envs/dev/lib/python3.12/site-packages (from kaggle) (2.32.3)\n",
      "Requirement already satisfied: setuptools>=21.0.0 in /opt/anaconda3/envs/dev/lib/python3.12/site-packages (from kaggle) (69.5.1)\n",
      "Requirement already satisfied: six>=1.10 in /opt/anaconda3/envs/dev/lib/python3.12/site-packages (from kaggle) (1.16.0)\n",
      "Requirement already satisfied: text-unidecode in /opt/anaconda3/envs/dev/lib/python3.12/site-packages (from kaggle) (1.3)\n",
      "Requirement already satisfied: tqdm in /opt/anaconda3/envs/dev/lib/python3.12/site-packages (from kaggle) (4.66.4)\n",
      "Requirement already satisfied: urllib3>=1.15.1 in /opt/anaconda3/envs/dev/lib/python3.12/site-packages (from kaggle) (2.2.2)\n",
      "Requirement already satisfied: webencodings in /opt/anaconda3/envs/dev/lib/python3.12/site-packages (from kaggle) (0.5.1)\n",
      "Requirement already satisfied: packaging in /opt/anaconda3/envs/dev/lib/python3.12/site-packages (from bleach->kaggle) (24.1)\n"
     ]
    }
   ],
   "source": [
    "!pip install kaggle"
   ]
  },
  {
   "cell_type": "code",
   "execution_count": 2,
   "id": "ee8b04d6-0e4d-47e0-8d52-fa6186cb69c9",
   "metadata": {},
   "outputs": [
    {
     "name": "stdout",
     "output_type": "stream",
     "text": [
      "Requirement already satisfied: kagglehub in /opt/anaconda3/envs/dev/lib/python3.12/site-packages (0.3.12)\n",
      "Requirement already satisfied: packaging in /opt/anaconda3/envs/dev/lib/python3.12/site-packages (from kagglehub) (24.1)\n",
      "Requirement already satisfied: pyyaml in /opt/anaconda3/envs/dev/lib/python3.12/site-packages (from kagglehub) (6.0.1)\n",
      "Requirement already satisfied: requests in /opt/anaconda3/envs/dev/lib/python3.12/site-packages (from kagglehub) (2.32.3)\n",
      "Requirement already satisfied: tqdm in /opt/anaconda3/envs/dev/lib/python3.12/site-packages (from kagglehub) (4.66.4)\n",
      "Requirement already satisfied: charset-normalizer<4,>=2 in /opt/anaconda3/envs/dev/lib/python3.12/site-packages (from requests->kagglehub) (3.3.2)\n",
      "Requirement already satisfied: idna<4,>=2.5 in /opt/anaconda3/envs/dev/lib/python3.12/site-packages (from requests->kagglehub) (3.7)\n",
      "Requirement already satisfied: urllib3<3,>=1.21.1 in /opt/anaconda3/envs/dev/lib/python3.12/site-packages (from requests->kagglehub) (2.2.2)\n",
      "Requirement already satisfied: certifi>=2017.4.17 in /opt/anaconda3/envs/dev/lib/python3.12/site-packages (from requests->kagglehub) (2024.8.30)\n"
     ]
    }
   ],
   "source": [
    "!pip install kagglehub"
   ]
  },
  {
   "cell_type": "code",
   "execution_count": 54,
   "id": "d31612fe-9add-4b6f-b936-3d5fb2730fb8",
   "metadata": {},
   "outputs": [
    {
     "name": "stdout",
     "output_type": "stream",
     "text": [
      "Collecting nltk\n",
      "  Downloading nltk-3.9.1-py3-none-any.whl.metadata (2.9 kB)\n",
      "Requirement already satisfied: click in /opt/anaconda3/envs/dev/lib/python3.12/site-packages (from nltk) (8.1.7)\n",
      "Requirement already satisfied: joblib in /opt/anaconda3/envs/dev/lib/python3.12/site-packages (from nltk) (1.4.2)\n",
      "Collecting regex>=2021.8.3 (from nltk)\n",
      "  Downloading regex-2024.11.6-cp312-cp312-macosx_11_0_arm64.whl.metadata (40 kB)\n",
      "\u001b[2K     \u001b[90m━━━━━━━━━━━━━━━━━━━━━━━━━━━━━━━━━━━━━━━━\u001b[0m \u001b[32m40.5/40.5 kB\u001b[0m \u001b[31m2.2 MB/s\u001b[0m eta \u001b[36m0:00:00\u001b[0m\n",
      "\u001b[?25hRequirement already satisfied: tqdm in /opt/anaconda3/envs/dev/lib/python3.12/site-packages (from nltk) (4.66.4)\n",
      "Downloading nltk-3.9.1-py3-none-any.whl (1.5 MB)\n",
      "\u001b[2K   \u001b[90m━━━━━━━━━━━━━━━━━━━━━━━━━━━━━━━━━━━━━━━━\u001b[0m \u001b[32m1.5/1.5 MB\u001b[0m \u001b[31m10.3 MB/s\u001b[0m eta \u001b[36m0:00:00\u001b[0m \u001b[36m0:00:01\u001b[0m\n",
      "\u001b[?25hDownloading regex-2024.11.6-cp312-cp312-macosx_11_0_arm64.whl (284 kB)\n",
      "\u001b[2K   \u001b[90m━━━━━━━━━━━━━━━━━━━━━━━━━━━━━━━━━━━━━━━━\u001b[0m \u001b[32m284.8/284.8 kB\u001b[0m \u001b[31m12.6 MB/s\u001b[0m eta \u001b[36m0:00:00\u001b[0m\n",
      "\u001b[?25hInstalling collected packages: regex, nltk\n",
      "Successfully installed nltk-3.9.1 regex-2024.11.6\n"
     ]
    }
   ],
   "source": [
    "!pip install nltk"
   ]
  },
  {
   "cell_type": "markdown",
   "id": "8526039d-43f7-4f79-9152-a063948b2861",
   "metadata": {},
   "source": [
    "# **Import Libraries and Authentication**"
   ]
  },
  {
   "cell_type": "code",
   "execution_count": 3,
   "id": "c729a308-a368-46e2-8556-ae0801663af9",
   "metadata": {},
   "outputs": [
    {
     "data": {
      "application/vnd.jupyter.widget-view+json": {
       "model_id": "794917f2a877458ea1e18173eed3ad15",
       "version_major": 2,
       "version_minor": 0
      },
      "text/plain": [
       "VBox(children=(HTML(value='<center> <img\\nsrc=https://www.kaggle.com/static/images/site-logo.png\\nalt=\\'Kaggle…"
      ]
     },
     "metadata": {},
     "output_type": "display_data"
    }
   ],
   "source": [
    "#Authentication for Kaggle using Credentials\n",
    "import kagglehub\n",
    "\n",
    "kagglehub.login()"
   ]
  },
  {
   "cell_type": "code",
   "execution_count": 4,
   "id": "caeff4df-4109-4017-8ce4-62a6b7db8211",
   "metadata": {},
   "outputs": [
    {
     "name": "stdout",
     "output_type": "stream",
     "text": [
      "Path to dataset files: /Users/talibahtimothy/.cache/kagglehub/datasets/lakshmi25npathi/imdb-dataset-of-50k-movie-reviews/versions/1\n"
     ]
    }
   ],
   "source": [
    "# Download latest version\n",
    "path = kagglehub.dataset_download(\"lakshmi25npathi/imdb-dataset-of-50k-movie-reviews\")\n",
    "\n",
    "print(\"Path to dataset files:\", path)"
   ]
  },
  {
   "cell_type": "code",
   "execution_count": 24,
   "id": "5db2eabd-008b-4227-a7f9-51dfd4fd066f",
   "metadata": {},
   "outputs": [],
   "source": [
    "#Import Libraries\n",
    "#import warnings: manage warning messages that may appear during code execution \n",
    "#warnings.filterwarnings('ignore'): suppress all warnings — they won't be printed to the console\n",
    "#import os: rovides functions for interacting with the operating system\n",
    "#dir_Path = 'F:\\\\': F: drive,(\\\\) are used to escape the backslash character in strings \n",
    "#import pandas as pd:data analysis and manipulation\n",
    "#import numpy as np: numerical computing:rrays, math operations, and data manipulation\n",
    "#from sklearn.preprocessing import LabelEncoder: convert categorical labels (e.g., 'positive', 'negative') into numbers (e.g., 1 and 0).Machine learning models usually need numeric input\n",
    "#from sklearn.feature_extraction.text import TfidfVectorizer: TF-IDF (Term Frequency–Inverse Document Frequency) to reflect how important a word is to a document in a collection\n",
    "#from sklearn.ensemble import RandomForestClassifier: ensemble of decision trees:flexible model for classification tasks.\n",
    "#from sklearn.svm import LinearSVC: linear Support Vector Classifier, a version of Support Vector Machine (SVM) optimized for speed.When using high-dimensional data like TF-IDF vectors\n",
    "#from sklearn.neighbors import KNeighborsClassifier: K-Nearest Neighbors (KNN):classifies a data point based on the majority class of its k nearest neighbors in the feature space. \n",
    "#from sklearn.metrics import accuracy_score , classification_report: accuracy_score: Measures the proportion of correct predictions.classification_report: Gives a detailed summary of precision, recall, f1-score, and support for each class.\n",
    "#from sklearn.model_selection import train_test_split: helps evaluate your model’s performance on unseen data\n",
    "#from tensorflow.keras.models import Sequential: building neural networks, model layer by layer in linear stack\n",
    "#from tensorflow.keras.layers import Dense, Embedding, LSTM: dense:fully connected network layer,embedding:convert integer encoded words into dense vectors (nlp)\n",
    "#lstm:type of recurrent neural network(RNN) that is good for sequential data like text or time series\n",
    "#from tensorflow.keras.preprocessing.text import Tokenizer:turning words/tokens into integers\n",
    "#from tensorflow.keras.preprocessing.sequence import pad_sequences: all lists of token IDs are the same length\n",
    "#import matplotlib.pyplot as plt: creates plots like line plots, bar graphs, and histograms\n",
    "#import seaborn as sns:statistical data visualization library built. High-level functions for attractive and informative plots \n",
    "#%matplotlib inline: plots appear inside the notebook, right below the code cells\n",
    "#sns.set_style(\"whitegrid\"): white background with grid lines, making it ideal for plots involving numerical comparisons (like bar charts or line graphs)\n",
    "#plt.style.use(\"fivethirtyeight\"):mimic the style used by FiveThirtyEight, a popular data journalism website. Plots a clean, modern look with large fonts, minimal borders, and distinctive colors.\n",
    "\n",
    "import warnings \n",
    "warnings.filterwarnings('ignore') \n",
    "\n",
    "import os \n",
    "dir_Path = 'F:\\\\'  \n",
    "\n",
    "import pandas as pd \n",
    "import numpy as np \n",
    "from sklearn.preprocessing import LabelEncoder \n",
    "from sklearn.feature_extraction.text import TfidfVectorizer \n",
    "from sklearn.ensemble import RandomForestClassifier \n",
    "from sklearn.svm import LinearSVC \n",
    "from sklearn.neighbors import KNeighborsClassifier \n",
    "from sklearn.metrics import accuracy_score , classification_report \n",
    "from sklearn.model_selection import train_test_split \n",
    "from tensorflow.keras.models import Sequential \n",
    "from tensorflow.keras.layers import Dense, Embedding, LSTM \n",
    "\n",
    "\n",
    "from tensorflow.keras.preprocessing.text import Tokenizer \n",
    "from tensorflow.keras.preprocessing.sequence import pad_sequences \n",
    "\n",
    "import matplotlib.pyplot as plt\n",
    "import seaborn as sns\n",
    "\n",
    "%matplotlib inline\n",
    "sns.set_style(\"whitegrid\")\n",
    "plt.style.use(\"fivethirtyeight\")\n",
    "\n",
    "IMDB_data = pd.read_csv(\"Downloads/IMDB_Dataset.csv\")"
   ]
  },
  {
   "cell_type": "code",
   "execution_count": 6,
   "id": "27e75751-8c9e-4c32-957b-3807d3604da8",
   "metadata": {},
   "outputs": [
    {
     "data": {
      "text/html": [
       "<div>\n",
       "<style scoped>\n",
       "    .dataframe tbody tr th:only-of-type {\n",
       "        vertical-align: middle;\n",
       "    }\n",
       "\n",
       "    .dataframe tbody tr th {\n",
       "        vertical-align: top;\n",
       "    }\n",
       "\n",
       "    .dataframe thead th {\n",
       "        text-align: right;\n",
       "    }\n",
       "</style>\n",
       "<table border=\"1\" class=\"dataframe\">\n",
       "  <thead>\n",
       "    <tr style=\"text-align: right;\">\n",
       "      <th></th>\n",
       "      <th>review</th>\n",
       "      <th>sentiment</th>\n",
       "    </tr>\n",
       "  </thead>\n",
       "  <tbody>\n",
       "    <tr>\n",
       "      <th>0</th>\n",
       "      <td>One of the other reviewers has mentioned that ...</td>\n",
       "      <td>positive</td>\n",
       "    </tr>\n",
       "    <tr>\n",
       "      <th>1</th>\n",
       "      <td>A wonderful little production. &lt;br /&gt;&lt;br /&gt;The...</td>\n",
       "      <td>positive</td>\n",
       "    </tr>\n",
       "    <tr>\n",
       "      <th>2</th>\n",
       "      <td>I thought this was a wonderful way to spend ti...</td>\n",
       "      <td>positive</td>\n",
       "    </tr>\n",
       "    <tr>\n",
       "      <th>3</th>\n",
       "      <td>Basically there's a family where a little boy ...</td>\n",
       "      <td>negative</td>\n",
       "    </tr>\n",
       "    <tr>\n",
       "      <th>4</th>\n",
       "      <td>Petter Mattei's \"Love in the Time of Money\" is...</td>\n",
       "      <td>positive</td>\n",
       "    </tr>\n",
       "  </tbody>\n",
       "</table>\n",
       "</div>"
      ],
      "text/plain": [
       "                                              review sentiment\n",
       "0  One of the other reviewers has mentioned that ...  positive\n",
       "1  A wonderful little production. <br /><br />The...  positive\n",
       "2  I thought this was a wonderful way to spend ti...  positive\n",
       "3  Basically there's a family where a little boy ...  negative\n",
       "4  Petter Mattei's \"Love in the Time of Money\" is...  positive"
      ]
     },
     "execution_count": 6,
     "metadata": {},
     "output_type": "execute_result"
    }
   ],
   "source": [
    "#Dataframe, first 5 rows\n",
    "IMDB_data.head()"
   ]
  },
  {
   "cell_type": "markdown",
   "id": "fd0f6c3c-1714-49d4-8f5f-dea20feb27ed",
   "metadata": {},
   "source": [
    "# **Data Cleaning**"
   ]
  },
  {
   "cell_type": "code",
   "execution_count": 39,
   "id": "c135fc19-cb7b-4336-999f-afc2c24771b3",
   "metadata": {},
   "outputs": [
    {
     "name": "stdout",
     "output_type": "stream",
     "text": [
      "Any missing value? False\n"
     ]
    }
   ],
   "source": [
    "#Check for any missing data in the dataset\n",
    "print(\"Any missing value?\",IMDB_data.isnull().values.any())"
   ]
  },
  {
   "cell_type": "code",
   "execution_count": 42,
   "id": "37de9504-66e4-458e-84dd-1ac855bf7c99",
   "metadata": {},
   "outputs": [
    {
     "data": {
      "text/plain": [
       "review       0\n",
       "sentiment    0\n",
       "dtype: int64"
      ]
     },
     "execution_count": 42,
     "metadata": {},
     "output_type": "execute_result"
    }
   ],
   "source": [
    "#Look at the total missing data in the dataset\n",
    "IMDB_data.isnull().sum()"
   ]
  },
  {
   "cell_type": "code",
   "execution_count": 44,
   "id": "5a246a28-a47d-4e76-b26b-b202248935bf",
   "metadata": {},
   "outputs": [
    {
     "data": {
      "text/html": [
       "<div>\n",
       "<style scoped>\n",
       "    .dataframe tbody tr th:only-of-type {\n",
       "        vertical-align: middle;\n",
       "    }\n",
       "\n",
       "    .dataframe tbody tr th {\n",
       "        vertical-align: top;\n",
       "    }\n",
       "\n",
       "    .dataframe thead th {\n",
       "        text-align: right;\n",
       "    }\n",
       "</style>\n",
       "<table border=\"1\" class=\"dataframe\">\n",
       "  <thead>\n",
       "    <tr style=\"text-align: right;\">\n",
       "      <th></th>\n",
       "      <th>review</th>\n",
       "      <th>sentiment</th>\n",
       "    </tr>\n",
       "  </thead>\n",
       "  <tbody>\n",
       "    <tr>\n",
       "      <th>0</th>\n",
       "      <td>One of the other reviewers has mentioned that ...</td>\n",
       "      <td>positive</td>\n",
       "    </tr>\n",
       "    <tr>\n",
       "      <th>1</th>\n",
       "      <td>A wonderful little production. &lt;br /&gt;&lt;br /&gt;The...</td>\n",
       "      <td>positive</td>\n",
       "    </tr>\n",
       "    <tr>\n",
       "      <th>2</th>\n",
       "      <td>I thought this was a wonderful way to spend ti...</td>\n",
       "      <td>positive</td>\n",
       "    </tr>\n",
       "    <tr>\n",
       "      <th>3</th>\n",
       "      <td>Basically there's a family where a little boy ...</td>\n",
       "      <td>negative</td>\n",
       "    </tr>\n",
       "    <tr>\n",
       "      <th>4</th>\n",
       "      <td>Petter Mattei's \"Love in the Time of Money\" is...</td>\n",
       "      <td>positive</td>\n",
       "    </tr>\n",
       "    <tr>\n",
       "      <th>...</th>\n",
       "      <td>...</td>\n",
       "      <td>...</td>\n",
       "    </tr>\n",
       "    <tr>\n",
       "      <th>49995</th>\n",
       "      <td>I thought this movie did a down right good job...</td>\n",
       "      <td>positive</td>\n",
       "    </tr>\n",
       "    <tr>\n",
       "      <th>49996</th>\n",
       "      <td>Bad plot, bad dialogue, bad acting, idiotic di...</td>\n",
       "      <td>negative</td>\n",
       "    </tr>\n",
       "    <tr>\n",
       "      <th>49997</th>\n",
       "      <td>I am a Catholic taught in parochial elementary...</td>\n",
       "      <td>negative</td>\n",
       "    </tr>\n",
       "    <tr>\n",
       "      <th>49998</th>\n",
       "      <td>I'm going to have to disagree with the previou...</td>\n",
       "      <td>negative</td>\n",
       "    </tr>\n",
       "    <tr>\n",
       "      <th>49999</th>\n",
       "      <td>No one expects the Star Trek movies to be high...</td>\n",
       "      <td>negative</td>\n",
       "    </tr>\n",
       "  </tbody>\n",
       "</table>\n",
       "<p>50000 rows × 2 columns</p>\n",
       "</div>"
      ],
      "text/plain": [
       "                                                  review sentiment\n",
       "0      One of the other reviewers has mentioned that ...  positive\n",
       "1      A wonderful little production. <br /><br />The...  positive\n",
       "2      I thought this was a wonderful way to spend ti...  positive\n",
       "3      Basically there's a family where a little boy ...  negative\n",
       "4      Petter Mattei's \"Love in the Time of Money\" is...  positive\n",
       "...                                                  ...       ...\n",
       "49995  I thought this movie did a down right good job...  positive\n",
       "49996  Bad plot, bad dialogue, bad acting, idiotic di...  negative\n",
       "49997  I am a Catholic taught in parochial elementary...  negative\n",
       "49998  I'm going to have to disagree with the previou...  negative\n",
       "49999  No one expects the Star Trek movies to be high...  negative\n",
       "\n",
       "[50000 rows x 2 columns]"
      ]
     },
     "execution_count": 44,
     "metadata": {},
     "output_type": "execute_result"
    }
   ],
   "source": [
    "#Drop missing values. There are no missing values, so the data is accurate.\n",
    "IMDB_data.dropna(axis=0)"
   ]
  },
  {
   "cell_type": "code",
   "execution_count": 46,
   "id": "9fea1d40-c773-44b3-bd14-3e378b4d6dca",
   "metadata": {},
   "outputs": [],
   "source": [
    "#Find duplicates in the dataset\n",
    "dup_IMDB_data=IMDB_data.duplicated().any()"
   ]
  },
  {
   "cell_type": "code",
   "execution_count": 47,
   "id": "9b04d991-4660-4850-8713-c9bab115dc93",
   "metadata": {},
   "outputs": [
    {
     "name": "stdout",
     "output_type": "stream",
     "text": [
      "Are there any duplicat values? True\n"
     ]
    }
   ],
   "source": [
    "#There duplicates in the dataset\n",
    "print(\"Are there any duplicat values?\",dup_IMDB_data)\n",
    "#IMDB_data.drop_duplicates()\n",
    "#IMDB_data.head()"
   ]
  },
  {
   "cell_type": "markdown",
   "id": "4aa94389-2cdf-4ba4-96bf-60559f125860",
   "metadata": {},
   "source": [
    "# **Data Statistics**"
   ]
  },
  {
   "cell_type": "code",
   "execution_count": 7,
   "id": "2ea0b9bb-db47-4ecd-b292-02c4b1e1cdfc",
   "metadata": {},
   "outputs": [
    {
     "data": {
      "text/plain": [
       "(50000, 2)"
      ]
     },
     "execution_count": 7,
     "metadata": {},
     "output_type": "execute_result"
    }
   ],
   "source": [
    "#Shape of the dataset: columns, then rows\n",
    "IMDB_data.shape"
   ]
  },
  {
   "cell_type": "code",
   "execution_count": 8,
   "id": "a6a1b163-da56-4fd1-afae-2219d4e3d2ff",
   "metadata": {},
   "outputs": [
    {
     "data": {
      "text/plain": [
       "<bound method DataFrame.info of                                                   review sentiment\n",
       "0      One of the other reviewers has mentioned that ...  positive\n",
       "1      A wonderful little production. <br /><br />The...  positive\n",
       "2      I thought this was a wonderful way to spend ti...  positive\n",
       "3      Basically there's a family where a little boy ...  negative\n",
       "4      Petter Mattei's \"Love in the Time of Money\" is...  positive\n",
       "...                                                  ...       ...\n",
       "49995  I thought this movie did a down right good job...  positive\n",
       "49996  Bad plot, bad dialogue, bad acting, idiotic di...  negative\n",
       "49997  I am a Catholic taught in parochial elementary...  negative\n",
       "49998  I'm going to have to disagree with the previou...  negative\n",
       "49999  No one expects the Star Trek movies to be high...  negative\n",
       "\n",
       "[50000 rows x 2 columns]>"
      ]
     },
     "execution_count": 8,
     "metadata": {},
     "output_type": "execute_result"
    }
   ],
   "source": [
    "#Information about the dataset\n",
    "IMDB_data.info"
   ]
  },
  {
   "cell_type": "code",
   "execution_count": 9,
   "id": "245868ee-bb17-406b-8353-3635d62ed0b1",
   "metadata": {},
   "outputs": [
    {
     "data": {
      "text/html": [
       "<div>\n",
       "<style scoped>\n",
       "    .dataframe tbody tr th:only-of-type {\n",
       "        vertical-align: middle;\n",
       "    }\n",
       "\n",
       "    .dataframe tbody tr th {\n",
       "        vertical-align: top;\n",
       "    }\n",
       "\n",
       "    .dataframe thead th {\n",
       "        text-align: right;\n",
       "    }\n",
       "</style>\n",
       "<table border=\"1\" class=\"dataframe\">\n",
       "  <thead>\n",
       "    <tr style=\"text-align: right;\">\n",
       "      <th></th>\n",
       "      <th>count</th>\n",
       "      <th>unique</th>\n",
       "      <th>top</th>\n",
       "      <th>freq</th>\n",
       "    </tr>\n",
       "  </thead>\n",
       "  <tbody>\n",
       "    <tr>\n",
       "      <th>review</th>\n",
       "      <td>50000</td>\n",
       "      <td>49582</td>\n",
       "      <td>Loved today's show!!! It was a variety and not...</td>\n",
       "      <td>5</td>\n",
       "    </tr>\n",
       "    <tr>\n",
       "      <th>sentiment</th>\n",
       "      <td>50000</td>\n",
       "      <td>2</td>\n",
       "      <td>positive</td>\n",
       "      <td>25000</td>\n",
       "    </tr>\n",
       "  </tbody>\n",
       "</table>\n",
       "</div>"
      ],
      "text/plain": [
       "           count unique                                                top  \\\n",
       "review     50000  49582  Loved today's show!!! It was a variety and not...   \n",
       "sentiment  50000      2                                           positive   \n",
       "\n",
       "            freq  \n",
       "review         5  \n",
       "sentiment  25000  "
      ]
     },
     "execution_count": 9,
     "metadata": {},
     "output_type": "execute_result"
    }
   ],
   "source": [
    "#Data Statistics, transposing rows and columns\n",
    "IMDB_data.describe().transpose()"
   ]
  },
  {
   "cell_type": "code",
   "execution_count": 10,
   "id": "bdd1e1d6-706e-4a89-9d2f-3e4b44a5ebab",
   "metadata": {},
   "outputs": [
    {
     "data": {
      "text/plain": [
       "sentiment\n",
       "positive    25000\n",
       "negative    25000\n",
       "Name: count, dtype: int64"
      ]
     },
     "execution_count": 10,
     "metadata": {},
     "output_type": "execute_result"
    }
   ],
   "source": [
    "#Value Counts of positive and negative sentiments\n",
    "IMDB_data[\"sentiment\"].value_counts()"
   ]
  },
  {
   "cell_type": "code",
   "execution_count": 11,
   "id": "52402bdd-55ff-47ee-9173-74eb63653f10",
   "metadata": {},
   "outputs": [
    {
     "data": {
      "image/png": "[encoded data removed]",
      "text/plain": [
       "<Figure size 600x400 with 1 Axes>"
      ]
     },
     "metadata": {},
     "output_type": "display_data"
    }
   ],
   "source": [
    "#Plot bar graph for sentiment: positive vs negative\n",
    "import seaborn as sns \n",
    "import matplotlib.pyplot as plt \n",
    "plt.figure(figsize=(6, 4))\n",
    "sns.countplot(data=IMDB_data, x='sentiment',palette={'negative': 'red', 'positive': 'blue'})\n",
    "plt.title(\"Sentiment Class Distribution\")\n",
    "plt.xlabel(\"Sentiment\")\n",
    "plt.ylabel(\"Count\")\n",
    "plt.show()"
   ]
  },
  {
   "cell_type": "code",
   "execution_count": 12,
   "id": "7da4328c-53e6-49ed-8ea3-7d699249b10a",
   "metadata": {},
   "outputs": [
    {
     "name": "stdout",
     "output_type": "stream",
     "text": [
      "Percentage for default\n",
      "\n",
      "sentiment\n",
      "positive    50.0\n",
      "negative    50.0\n",
      "Name: proportion, dtype: float64\n"
     ]
    },
    {
     "data": {
      "image/png": "[encoded data removed]",
      "text/plain": [
       "<Figure size 640x480 with 1 Axes>"
      ]
     },
     "metadata": {},
     "output_type": "display_data"
    }
   ],
   "source": [
    "#Plot bar graph for sentiment: positive vs negative by percentage\n",
    "import matplotlib.pyplot as plt\n",
    "%matplotlib inline\n",
    "print('Percentage for default\\n')\n",
    "percentages = round(IMDB_data.sentiment.value_counts(normalize=True)*100, 2)\n",
    "print(percentages)\n",
    "\n",
    "# Plot with custom colors for bars: 0 = negative (red), 1 = positive (blue)\n",
    "percentages.plot(kind='bar', color=['red' if idx == 'negative' else 'blue' for idx in percentages.index])\n",
    "plt.title('Percentage Distributions by Review Type')\n",
    "plt.show()"
   ]
  },
  {
   "cell_type": "markdown",
   "id": "85245b42-5898-4417-bf85-3b067a369d4c",
   "metadata": {},
   "source": [
    "# **Preprocessing & Lemmization**"
   ]
  },
  {
   "cell_type": "code",
   "execution_count": 57,
   "id": "12f6be06-3297-4166-9f7c-3e4e3a918b05",
   "metadata": {},
   "outputs": [
    {
     "name": "stderr",
     "output_type": "stream",
     "text": [
      "[nltk_data] Downloading package stopwords to\n",
      "[nltk_data]     /Users/talibahtimothy/nltk_data...\n",
      "[nltk_data]   Package stopwords is already up-to-date!\n",
      "[nltk_data] Downloading package wordnet to\n",
      "[nltk_data]     /Users/talibahtimothy/nltk_data...\n",
      "[nltk_data]   Package wordnet is already up-to-date!\n"
     ]
    }
   ],
   "source": [
    "#re: for regular expressions that allows you to match patterns in strings (used for text cleaning)\n",
    "#string:common string operations (such as punctuation)\n",
    "#nltk:Natural Language Toolkit, a popular library in Python for text processing and NLP\n",
    "#nltk.corpus import stopwords:a list of common words like \"the,\" \"and,\" \"in,\" etc., which don’t contribute much to meaning and can be removed\n",
    "#nltk.stem import WordNetLemmatizer: a tool used for lemmatization, which reduces words to their base form (e.g., \"running\" becomes \"run\")\n",
    "#nltk.download: the stopwords list and the WordNet database, which is needed for lemmatization\n",
    "#set(stopwords.words('english')):loads a set of common English words to be removed from the text. These are words that usually don't carry significant meaning for NLP tasks.\n",
    "#WordNetLemmatizer(): creates an instance of the WordNetLemmatizer which is used to reduce words to their base form (e.g., \"better\" becomes \"good\").\n",
    "#text.lower():converts all the text to lowercase. I.e., \"Apple\" and \"apple\" are treated the same.\n",
    "#re.sub(r'<.*?>', '', text):removes HTML tags.I.e: text contains HTML content like <p>...</p> tags\n",
    "#re.sub(r'\\d+', '', text): remove numbers.Numbers often don’t add much value in text analysis.\n",
    "#text.translate(str.maketrans('', '', string.punctuation))  # Remove punctuation. I.e. commas, periods, etc.). Punctuation isn't useful intext classification tasks.\n",
    "#text.split(): splits the text into a list of individual tokens (words)\n",
    "#[lemmatizer.lemmatize(word) for word in tokens if word not in stop_words]: lemmatize and remove stopwords\n",
    "#.join(tokens):joins the list of processed words back into a single string, with a space separating each word\n",
    "\n",
    "import re \n",
    "import string \n",
    "import nltk \n",
    "from nltk.corpus import stopwords\n",
    "from nltk.stem import WordNetLemmatizer\n",
    "\n",
    "# Download needed resources\n",
    "nltk.download('stopwords')\n",
    "nltk.download('wordnet')\n",
    "\n",
    "stop_words = set(stopwords.words('english'))\n",
    "lemmatizer = WordNetLemmatizer()\n",
    "\n",
    "def preprocess_text(text):\n",
    "    text = text.lower()  # Lowercase\n",
    "    text = re.sub(r'<.*?>', '', text)  # Remove HTML tags\n",
    "    text = re.sub(r'\\d+', '', text)  # Remove numbers\n",
    "    text = text.translate(str.maketrans('', '', string.punctuation))  # Remove punctuation\n",
    "    tokens = text.split()\n",
    "    tokens = [lemmatizer.lemmatize(word) for word in tokens if word not in stop_words]  # Lemmatize and remove stopwords\n",
    "    return ' '.join(tokens)"
   ]
  },
  {
   "cell_type": "code",
   "execution_count": 58,
   "id": "12284743-570c-446a-8e78-2c5434572c6d",
   "metadata": {},
   "outputs": [],
   "source": [
    "#Apply a function along a particular axis (in this case, on each entry of a column)\n",
    "#Converting the text to lowercase.Removing HTML tags.Removing numbers.\n",
    "#Removing punctuation.Lemmatizing words.Removing stopwords (commonly used words like \"the,\" \"is,\" etc.).\n",
    "\n",
    "IMDB_data['cleaned_review'] = IMDB_data['review'].apply(preprocess_text)"
   ]
  },
  {
   "cell_type": "code",
   "execution_count": 59,
   "id": "32ca0164-24d1-44c0-a67d-ca00dd282c3a",
   "metadata": {},
   "outputs": [
    {
     "data": {
      "text/html": [
       "<div>\n",
       "<style scoped>\n",
       "    .dataframe tbody tr th:only-of-type {\n",
       "        vertical-align: middle;\n",
       "    }\n",
       "\n",
       "    .dataframe tbody tr th {\n",
       "        vertical-align: top;\n",
       "    }\n",
       "\n",
       "    .dataframe thead th {\n",
       "        text-align: right;\n",
       "    }\n",
       "</style>\n",
       "<table border=\"1\" class=\"dataframe\">\n",
       "  <thead>\n",
       "    <tr style=\"text-align: right;\">\n",
       "      <th></th>\n",
       "      <th>review</th>\n",
       "      <th>sentiment</th>\n",
       "      <th>cleaned_review</th>\n",
       "    </tr>\n",
       "  </thead>\n",
       "  <tbody>\n",
       "    <tr>\n",
       "      <th>0</th>\n",
       "      <td>One of the other reviewers has mentioned that ...</td>\n",
       "      <td>positive</td>\n",
       "      <td>one reviewer mentioned watching oz episode you...</td>\n",
       "    </tr>\n",
       "    <tr>\n",
       "      <th>1</th>\n",
       "      <td>A wonderful little production. &lt;br /&gt;&lt;br /&gt;The...</td>\n",
       "      <td>positive</td>\n",
       "      <td>wonderful little production filming technique ...</td>\n",
       "    </tr>\n",
       "    <tr>\n",
       "      <th>2</th>\n",
       "      <td>I thought this was a wonderful way to spend ti...</td>\n",
       "      <td>positive</td>\n",
       "      <td>thought wonderful way spend time hot summer we...</td>\n",
       "    </tr>\n",
       "    <tr>\n",
       "      <th>3</th>\n",
       "      <td>Basically there's a family where a little boy ...</td>\n",
       "      <td>negative</td>\n",
       "      <td>basically there family little boy jake think t...</td>\n",
       "    </tr>\n",
       "    <tr>\n",
       "      <th>4</th>\n",
       "      <td>Petter Mattei's \"Love in the Time of Money\" is...</td>\n",
       "      <td>positive</td>\n",
       "      <td>petter matteis love time money visually stunni...</td>\n",
       "    </tr>\n",
       "  </tbody>\n",
       "</table>\n",
       "</div>"
      ],
      "text/plain": [
       "                                              review sentiment  \\\n",
       "0  One of the other reviewers has mentioned that ...  positive   \n",
       "1  A wonderful little production. <br /><br />The...  positive   \n",
       "2  I thought this was a wonderful way to spend ti...  positive   \n",
       "3  Basically there's a family where a little boy ...  negative   \n",
       "4  Petter Mattei's \"Love in the Time of Money\" is...  positive   \n",
       "\n",
       "                                      cleaned_review  \n",
       "0  one reviewer mentioned watching oz episode you...  \n",
       "1  wonderful little production filming technique ...  \n",
       "2  thought wonderful way spend time hot summer we...  \n",
       "3  basically there family little boy jake think t...  \n",
       "4  petter matteis love time money visually stunni...  "
      ]
     },
     "execution_count": 59,
     "metadata": {},
     "output_type": "execute_result"
    }
   ],
   "source": [
    "#New dataframe with cleaned preprocessed review\n",
    "IMDB_data.head()"
   ]
  },
  {
   "cell_type": "markdown",
   "id": "fbe99df6-dcf6-437f-a014-1cd144dba904",
   "metadata": {},
   "source": [
    "# **Encode Label**"
   ]
  },
  {
   "cell_type": "code",
   "execution_count": 63,
   "id": "30e7ed6d-6a8e-4717-bd7d-1f27350f5b43",
   "metadata": {},
   "outputs": [
    {
     "data": {
      "text/html": [
       "<div>\n",
       "<style scoped>\n",
       "    .dataframe tbody tr th:only-of-type {\n",
       "        vertical-align: middle;\n",
       "    }\n",
       "\n",
       "    .dataframe tbody tr th {\n",
       "        vertical-align: top;\n",
       "    }\n",
       "\n",
       "    .dataframe thead th {\n",
       "        text-align: right;\n",
       "    }\n",
       "</style>\n",
       "<table border=\"1\" class=\"dataframe\">\n",
       "  <thead>\n",
       "    <tr style=\"text-align: right;\">\n",
       "      <th></th>\n",
       "      <th>review</th>\n",
       "      <th>sentiment</th>\n",
       "      <th>cleaned_review</th>\n",
       "    </tr>\n",
       "  </thead>\n",
       "  <tbody>\n",
       "    <tr>\n",
       "      <th>0</th>\n",
       "      <td>One of the other reviewers has mentioned that ...</td>\n",
       "      <td>1</td>\n",
       "      <td>one reviewer mentioned watching oz episode you...</td>\n",
       "    </tr>\n",
       "    <tr>\n",
       "      <th>1</th>\n",
       "      <td>A wonderful little production. &lt;br /&gt;&lt;br /&gt;The...</td>\n",
       "      <td>1</td>\n",
       "      <td>wonderful little production filming technique ...</td>\n",
       "    </tr>\n",
       "    <tr>\n",
       "      <th>2</th>\n",
       "      <td>I thought this was a wonderful way to spend ti...</td>\n",
       "      <td>1</td>\n",
       "      <td>thought wonderful way spend time hot summer we...</td>\n",
       "    </tr>\n",
       "    <tr>\n",
       "      <th>3</th>\n",
       "      <td>Basically there's a family where a little boy ...</td>\n",
       "      <td>0</td>\n",
       "      <td>basically there family little boy jake think t...</td>\n",
       "    </tr>\n",
       "    <tr>\n",
       "      <th>4</th>\n",
       "      <td>Petter Mattei's \"Love in the Time of Money\" is...</td>\n",
       "      <td>1</td>\n",
       "      <td>petter matteis love time money visually stunni...</td>\n",
       "    </tr>\n",
       "  </tbody>\n",
       "</table>\n",
       "</div>"
      ],
      "text/plain": [
       "                                              review  sentiment  \\\n",
       "0  One of the other reviewers has mentioned that ...          1   \n",
       "1  A wonderful little production. <br /><br />The...          1   \n",
       "2  I thought this was a wonderful way to spend ti...          1   \n",
       "3  Basically there's a family where a little boy ...          0   \n",
       "4  Petter Mattei's \"Love in the Time of Money\" is...          1   \n",
       "\n",
       "                                      cleaned_review  \n",
       "0  one reviewer mentioned watching oz episode you...  \n",
       "1  wonderful little production filming technique ...  \n",
       "2  thought wonderful way spend time hot summer we...  \n",
       "3  basically there family little boy jake think t...  \n",
       "4  petter matteis love time money visually stunni...  "
      ]
     },
     "execution_count": 63,
     "metadata": {},
     "output_type": "execute_result"
    }
   ],
   "source": [
    "#Replaces negative and positive in the sentiment column with numerical values 0 and 1.\n",
    "#Binary Classification.\n",
    "IMDB_data.replace({'sentiment' : {'positive':1, 'negative':0}}, inplace=True)\n",
    "IMDB_data.head()"
   ]
  },
  {
   "cell_type": "markdown",
   "id": "9152884c-293e-4656-84fa-d8168889972e",
   "metadata": {},
   "source": [
    "# **Split the Data into Training and Testing Sets**"
   ]
  },
  {
   "cell_type": "code",
   "execution_count": 64,
   "id": "7d6eaa3d-f1cd-45e5-b70c-16f19f5673b6",
   "metadata": {},
   "outputs": [],
   "source": [
    "#Split data into training and test sets\n",
    "train_IMDB_data, test_IMDB_data = train_test_split(IMDB_data, test_size=0.2, random_state=42)"
   ]
  },
  {
   "cell_type": "code",
   "execution_count": 65,
   "id": "cb739b15-070a-4035-a474-41f07c4469bb",
   "metadata": {},
   "outputs": [
    {
     "data": {
      "text/plain": [
       "((40000, 3), (10000, 3))"
      ]
     },
     "execution_count": 65,
     "metadata": {},
     "output_type": "execute_result"
    }
   ],
   "source": [
    "#Shape of train and test sets\n",
    "train_IMDB_data.shape, test_IMDB_data.shape"
   ]
  },
  {
   "cell_type": "code",
   "execution_count": 66,
   "id": "3eeb19fc-12ec-46c4-bc85-77616b7b01a9",
   "metadata": {},
   "outputs": [],
   "source": [
    "#Tokenizerokenizer is a fundamental tool in NLP that breaks text into smaller units tokens.\n",
    "#Example: Words (\"Hello\", \"world\").Punctuation ( \"!\", \".\")\n",
    "IMDB_tokenizer = Tokenizer(num_words=5000)\n",
    "IMDB_tokenizer.fit_on_texts(train_IMDB_data['review'])\n",
    "X_train = pad_sequences(IMDB_tokenizer.texts_to_sequences(train_IMDB_data['review']),maxlen = 200)\n",
    "X_test = pad_sequences(IMDB_tokenizer.texts_to_sequences(test_IMDB_data['review']),maxlen = 200)"
   ]
  },
  {
   "cell_type": "code",
   "execution_count": 67,
   "id": "f08c0875-a433-43c4-b536-1439dfef9da1",
   "metadata": {},
   "outputs": [],
   "source": [
    "#Labels that extract the target variable ('sentient) from tow datasets.\n",
    "#The two datasets are train_IMDB_data,test_IMDB_data.\n",
    "y_train = train_IMDB_data['sentiment']\n",
    "y_test = test_IMDB_data['sentiment']"
   ]
  },
  {
   "cell_type": "markdown",
   "id": "ac3b203d-c958-4972-a963-d57f0e054d47",
   "metadata": {},
   "source": [
    "# **Building & Training LSTM (Long Short-Term Memory) Model**"
   ]
  },
  {
   "cell_type": "code",
   "execution_count": 18,
   "id": "ee4fed56-ea3d-4b16-bbc5-5d2c25e9a124",
   "metadata": {},
   "outputs": [],
   "source": [
    "# Build the model and add 3 layers.\n",
    "# Embedding, LSTM, Dense are the 3 layers. \n",
    "#Sigmoid is used to map predicted values to probabilities in binary classification. \n",
    "#Sigmoid cont.:Out layer for neural networks.\n",
    "model0 = Sequential() #build a model layer-by-layer in a straightforward way. Add layers one at a time, and each layer’s output becomes the input for the next.\n",
    "model0.add(Embedding(input_dim=5000, output_dim=125, input_length=200))\n",
    "model0.add(LSTM(125, dropout=0.2,recurrent_dropout=0.2))\n",
    "model0.add(Dense(1, activation='sigmoid'))"
   ]
  },
  {
   "cell_type": "code",
   "execution_count": 68,
   "id": "5644b714-268a-408c-97d0-5b995d532b95",
   "metadata": {},
   "outputs": [],
   "source": [
    "# Compile the model\n",
    "#optimizer='adam': algorithim that adjusts the learning rate during training. Fast & stable.\n",
    "#binary-crossentrypy: binary task. EX: positive:(1) vs negative:(0). Loss is high, if it predicts further away from the true label.\n",
    "#metrics=['accuracy']:rpeorts it duing training and evaluation. Proportion of correctly predicted labels.\n",
    "\n",
    "model0.compile(optimizer='adam', loss='binary_crossentropy', metrics=['accuracy'])"
   ]
  },
  {
   "cell_type": "code",
   "execution_count": 69,
   "id": "fcb3c132-f30d-49bf-bb3f-82dffd537558",
   "metadata": {},
   "outputs": [
    {
     "name": "stdout",
     "output_type": "stream",
     "text": [
      "Epoch 1/5\n",
      "\u001b[1m500/500\u001b[0m \u001b[32m━━━━━━━━━━━━━━━━━━━━\u001b[0m\u001b[37m\u001b[0m \u001b[1m70s\u001b[0m 140ms/step - accuracy: 0.9058 - loss: 0.2373 - val_accuracy: 0.8784 - val_loss: 0.3093\n",
      "Epoch 2/5\n",
      "\u001b[1m500/500\u001b[0m \u001b[32m━━━━━━━━━━━━━━━━━━━━\u001b[0m\u001b[37m\u001b[0m \u001b[1m69s\u001b[0m 138ms/step - accuracy: 0.9262 - loss: 0.1955 - val_accuracy: 0.8741 - val_loss: 0.3263\n",
      "Epoch 3/5\n",
      "\u001b[1m500/500\u001b[0m \u001b[32m━━━━━━━━━━━━━━━━━━━━\u001b[0m\u001b[37m\u001b[0m \u001b[1m69s\u001b[0m 137ms/step - accuracy: 0.9349 - loss: 0.1730 - val_accuracy: 0.8799 - val_loss: 0.3064\n",
      "Epoch 4/5\n",
      "\u001b[1m500/500\u001b[0m \u001b[32m━━━━━━━━━━━━━━━━━━━━\u001b[0m\u001b[37m\u001b[0m \u001b[1m69s\u001b[0m 138ms/step - accuracy: 0.9407 - loss: 0.1570 - val_accuracy: 0.8811 - val_loss: 0.3469\n",
      "Epoch 5/5\n",
      "\u001b[1m500/500\u001b[0m \u001b[32m━━━━━━━━━━━━━━━━━━━━\u001b[0m\u001b[37m\u001b[0m \u001b[1m70s\u001b[0m 139ms/step - accuracy: 0.9499 - loss: 0.1315 - val_accuracy: 0.8798 - val_loss: 0.3582\n"
     ]
    },
    {
     "data": {
      "text/plain": [
       "<keras.src.callbacks.history.History at 0x307cd47d0>"
      ]
     },
     "execution_count": 69,
     "metadata": {},
     "output_type": "execute_result"
    }
   ],
   "source": [
    "#Model Training\n",
    "#X_train:input features(padded sequences of tokeized reviews)\n",
    "#y_train:labels (1=positive, 0=negative)\n",
    "#epochs=5:go through the training dataset 5 times.\n",
    "#batch_sizes=64:batches of 64 samples. Balances training speed and memory usage.\n",
    "#validation_split=0.2: 20% of X_train and y_train for validation for training.\n",
    "\n",
    "model0.fit(X_train, y_train, epochs=5, batch_size=64, validation_split=0.2)"
   ]
  },
  {
   "cell_type": "markdown",
   "id": "7d076c52-6eda-4a09-a496-daf5ac78a599",
   "metadata": {},
   "source": [
    "# **RandomForest, LinearSVC, KNeighbors Models and Model Evaluations**"
   ]
  },
  {
   "cell_type": "code",
   "execution_count": 70,
   "id": "a6d58fa3-05d5-4623-a8c4-a407552cd5d1",
   "metadata": {},
   "outputs": [],
   "source": [
    "X=IMDB_data['cleaned_review']\n",
    "y=IMDB_data['sentiment']"
   ]
  },
  {
   "cell_type": "code",
   "execution_count": 71,
   "id": "00b91546-9092-4be2-86b9-3774447070fc",
   "metadata": {},
   "outputs": [
    {
     "data": {
      "text/plain": [
       "<50000x203493 sparse matrix of type '<class 'numpy.float64'>'\n",
       "\twith 4827064 stored elements in Compressed Sparse Row format>"
      ]
     },
     "execution_count": 71,
     "metadata": {},
     "output_type": "execute_result"
    }
   ],
   "source": [
    "#TfidfVectorizer(): text vectorization tool from sklearn.feature_extraction.text.TF-IDF stands for Term Frequency–Inverse Document Frequency — it scores how important a word is in a document relative to the entire dataset.\n",
    "# vectorizer.fit_transform(X): X is assumed to be a list or Series of preprocessed text data (e.g., reviews)\n",
    "# vectorizer.fit_transform(X) cont.:.fit_transform(X):learns the vocabulary (all unique words)\n",
    "# vectorizer.fit_transform(X) cont.:converts each document into a sparse vector of TF-IDF scores.\n",
    "# x_cv:stores the resulting sparse matrix. Rows = documents,Columns = terms/words,Values = TF-IDF scores\n",
    "\n",
    "vectorizer=TfidfVectorizer()\n",
    "x_cv=vectorizer.fit_transform(X)\n",
    "x_cv"
   ]
  },
  {
   "cell_type": "code",
   "execution_count": 72,
   "id": "3a0e9e0e-53c7-4051-b20e-23af3d273f6f",
   "metadata": {},
   "outputs": [],
   "source": [
    "#train_test_split(): a function from sklearn.model_selection that randomly splits data into training and testing parts\n",
    "#x_cv:Your input features (in this case, the TF-IDF vectors of text data)\n",
    "#y: Your labels/target values (e.g., positive/negative sentiment)\n",
    "#test_size=0.2:20% of the data is used for testing, 80% for training\n",
    "#random_state=42:Sets a seed for reproducibility – so you get the same split every time you run it\n",
    "#X_train / X_test: Input features for training/testing\n",
    "#y_train / y_test:Target labels for training/testing\n",
    "\n",
    "X_train,X_test,y_train,y_test=train_test_split(x_cv,y,test_size=0.2,random_state=42)"
   ]
  },
  {
   "cell_type": "code",
   "execution_count": 73,
   "id": "2e42b6b5-22cc-4386-a096-7d51224dfa4c",
   "metadata": {},
   "outputs": [],
   "source": [
    "#Random Forest is an ensemble model that builds multiple decision trees\n",
    "#Linear Support Vector Classifier is a linear model used for binary (or multi-class) classification\n",
    "#K-Nearest Neighbors (KNN) is a lazy learning algorithm that classifies a data point \n",
    "\n",
    "model1 = RandomForestClassifier()\n",
    "model2 = LinearSVC()\n",
    "model3 = KNeighborsClassifier()"
   ]
  },
  {
   "cell_type": "code",
   "execution_count": 74,
   "id": "9347f2fc-55c8-4247-8543-b3d12bbbad23",
   "metadata": {},
   "outputs": [
    {
     "data": {
      "text/html": [
       "<style>#sk-container-id-1 {\n",
       "  /* Definition of color scheme common for light and dark mode */\n",
       "  --sklearn-color-text: black;\n",
       "  --sklearn-color-line: gray;\n",
       "  /* Definition of color scheme for unfitted estimators */\n",
       "  --sklearn-color-unfitted-level-0: #fff5e6;\n",
       "  --sklearn-color-unfitted-level-1: #f6e4d2;\n",
       "  --sklearn-color-unfitted-level-2: #ffe0b3;\n",
       "  --sklearn-color-unfitted-level-3: chocolate;\n",
       "  /* Definition of color scheme for fitted estimators */\n",
       "  --sklearn-color-fitted-level-0: #f0f8ff;\n",
       "  --sklearn-color-fitted-level-1: #d4ebff;\n",
       "  --sklearn-color-fitted-level-2: #b3dbfd;\n",
       "  --sklearn-color-fitted-level-3: cornflowerblue;\n",
       "\n",
       "  /* Specific color for light theme */\n",
       "  --sklearn-color-text-on-default-background: var(--sg-text-color, var(--theme-code-foreground, var(--jp-content-font-color1, black)));\n",
       "  --sklearn-color-background: var(--sg-background-color, var(--theme-background, var(--jp-layout-color0, white)));\n",
       "  --sklearn-color-border-box: var(--sg-text-color, var(--theme-code-foreground, var(--jp-content-font-color1, black)));\n",
       "  --sklearn-color-icon: #696969;\n",
       "\n",
       "  @media (prefers-color-scheme: dark) {\n",
       "    /* Redefinition of color scheme for dark theme */\n",
       "    --sklearn-color-text-on-default-background: var(--sg-text-color, var(--theme-code-foreground, var(--jp-content-font-color1, white)));\n",
       "    --sklearn-color-background: var(--sg-background-color, var(--theme-background, var(--jp-layout-color0, #111)));\n",
       "    --sklearn-color-border-box: var(--sg-text-color, var(--theme-code-foreground, var(--jp-content-font-color1, white)));\n",
       "    --sklearn-color-icon: #878787;\n",
       "  }\n",
       "}\n",
       "\n",
       "#sk-container-id-1 {\n",
       "  color: var(--sklearn-color-text);\n",
       "}\n",
       "\n",
       "#sk-container-id-1 pre {\n",
       "  padding: 0;\n",
       "}\n",
       "\n",
       "#sk-container-id-1 input.sk-hidden--visually {\n",
       "  border: 0;\n",
       "  clip: rect(1px 1px 1px 1px);\n",
       "  clip: rect(1px, 1px, 1px, 1px);\n",
       "  height: 1px;\n",
       "  margin: -1px;\n",
       "  overflow: hidden;\n",
       "  padding: 0;\n",
       "  position: absolute;\n",
       "  width: 1px;\n",
       "}\n",
       "\n",
       "#sk-container-id-1 div.sk-dashed-wrapped {\n",
       "  border: 1px dashed var(--sklearn-color-line);\n",
       "  margin: 0 0.4em 0.5em 0.4em;\n",
       "  box-sizing: border-box;\n",
       "  padding-bottom: 0.4em;\n",
       "  background-color: var(--sklearn-color-background);\n",
       "}\n",
       "\n",
       "#sk-container-id-1 div.sk-container {\n",
       "  /* jupyter's `normalize.less` sets `[hidden] { display: none; }`\n",
       "     but bootstrap.min.css set `[hidden] { display: none !important; }`\n",
       "     so we also need the `!important` here to be able to override the\n",
       "     default hidden behavior on the sphinx rendered scikit-learn.org.\n",
       "     See: https://github.com/scikit-learn/scikit-learn/issues/21755 */\n",
       "  display: inline-block !important;\n",
       "  position: relative;\n",
       "}\n",
       "\n",
       "#sk-container-id-1 div.sk-text-repr-fallback {\n",
       "  display: none;\n",
       "}\n",
       "\n",
       "div.sk-parallel-item,\n",
       "div.sk-serial,\n",
       "div.sk-item {\n",
       "  /* draw centered vertical line to link estimators */\n",
       "  background-image: linear-gradient(var(--sklearn-color-text-on-default-background), var(--sklearn-color-text-on-default-background));\n",
       "  background-size: 2px 100%;\n",
       "  background-repeat: no-repeat;\n",
       "  background-position: center center;\n",
       "}\n",
       "\n",
       "/* Parallel-specific style estimator block */\n",
       "\n",
       "#sk-container-id-1 div.sk-parallel-item::after {\n",
       "  content: \"\";\n",
       "  width: 100%;\n",
       "  border-bottom: 2px solid var(--sklearn-color-text-on-default-background);\n",
       "  flex-grow: 1;\n",
       "}\n",
       "\n",
       "#sk-container-id-1 div.sk-parallel {\n",
       "  display: flex;\n",
       "  align-items: stretch;\n",
       "  justify-content: center;\n",
       "  background-color: var(--sklearn-color-background);\n",
       "  position: relative;\n",
       "}\n",
       "\n",
       "#sk-container-id-1 div.sk-parallel-item {\n",
       "  display: flex;\n",
       "  flex-direction: column;\n",
       "}\n",
       "\n",
       "#sk-container-id-1 div.sk-parallel-item:first-child::after {\n",
       "  align-self: flex-end;\n",
       "  width: 50%;\n",
       "}\n",
       "\n",
       "#sk-container-id-1 div.sk-parallel-item:last-child::after {\n",
       "  align-self: flex-start;\n",
       "  width: 50%;\n",
       "}\n",
       "\n",
       "#sk-container-id-1 div.sk-parallel-item:only-child::after {\n",
       "  width: 0;\n",
       "}\n",
       "\n",
       "/* Serial-specific style estimator block */\n",
       "\n",
       "#sk-container-id-1 div.sk-serial {\n",
       "  display: flex;\n",
       "  flex-direction: column;\n",
       "  align-items: center;\n",
       "  background-color: var(--sklearn-color-background);\n",
       "  padding-right: 1em;\n",
       "  padding-left: 1em;\n",
       "}\n",
       "\n",
       "\n",
       "/* Toggleable style: style used for estimator/Pipeline/ColumnTransformer box that is\n",
       "clickable and can be expanded/collapsed.\n",
       "- Pipeline and ColumnTransformer use this feature and define the default style\n",
       "- Estimators will overwrite some part of the style using the `sk-estimator` class\n",
       "*/\n",
       "\n",
       "/* Pipeline and ColumnTransformer style (default) */\n",
       "\n",
       "#sk-container-id-1 div.sk-toggleable {\n",
       "  /* Default theme specific background. It is overwritten whether we have a\n",
       "  specific estimator or a Pipeline/ColumnTransformer */\n",
       "  background-color: var(--sklearn-color-background);\n",
       "}\n",
       "\n",
       "/* Toggleable label */\n",
       "#sk-container-id-1 label.sk-toggleable__label {\n",
       "  cursor: pointer;\n",
       "  display: block;\n",
       "  width: 100%;\n",
       "  margin-bottom: 0;\n",
       "  padding: 0.5em;\n",
       "  box-sizing: border-box;\n",
       "  text-align: center;\n",
       "}\n",
       "\n",
       "#sk-container-id-1 label.sk-toggleable__label-arrow:before {\n",
       "  /* Arrow on the left of the label */\n",
       "  content: \"▸\";\n",
       "  float: left;\n",
       "  margin-right: 0.25em;\n",
       "  color: var(--sklearn-color-icon);\n",
       "}\n",
       "\n",
       "#sk-container-id-1 label.sk-toggleable__label-arrow:hover:before {\n",
       "  color: var(--sklearn-color-text);\n",
       "}\n",
       "\n",
       "/* Toggleable content - dropdown */\n",
       "\n",
       "#sk-container-id-1 div.sk-toggleable__content {\n",
       "  max-height: 0;\n",
       "  max-width: 0;\n",
       "  overflow: hidden;\n",
       "  text-align: left;\n",
       "  /* unfitted */\n",
       "  background-color: var(--sklearn-color-unfitted-level-0);\n",
       "}\n",
       "\n",
       "#sk-container-id-1 div.sk-toggleable__content.fitted {\n",
       "  /* fitted */\n",
       "  background-color: var(--sklearn-color-fitted-level-0);\n",
       "}\n",
       "\n",
       "#sk-container-id-1 div.sk-toggleable__content pre {\n",
       "  margin: 0.2em;\n",
       "  border-radius: 0.25em;\n",
       "  color: var(--sklearn-color-text);\n",
       "  /* unfitted */\n",
       "  background-color: var(--sklearn-color-unfitted-level-0);\n",
       "}\n",
       "\n",
       "#sk-container-id-1 div.sk-toggleable__content.fitted pre {\n",
       "  /* unfitted */\n",
       "  background-color: var(--sklearn-color-fitted-level-0);\n",
       "}\n",
       "\n",
       "#sk-container-id-1 input.sk-toggleable__control:checked~div.sk-toggleable__content {\n",
       "  /* Expand drop-down */\n",
       "  max-height: 200px;\n",
       "  max-width: 100%;\n",
       "  overflow: auto;\n",
       "}\n",
       "\n",
       "#sk-container-id-1 input.sk-toggleable__control:checked~label.sk-toggleable__label-arrow:before {\n",
       "  content: \"▾\";\n",
       "}\n",
       "\n",
       "/* Pipeline/ColumnTransformer-specific style */\n",
       "\n",
       "#sk-container-id-1 div.sk-label input.sk-toggleable__control:checked~label.sk-toggleable__label {\n",
       "  color: var(--sklearn-color-text);\n",
       "  background-color: var(--sklearn-color-unfitted-level-2);\n",
       "}\n",
       "\n",
       "#sk-container-id-1 div.sk-label.fitted input.sk-toggleable__control:checked~label.sk-toggleable__label {\n",
       "  background-color: var(--sklearn-color-fitted-level-2);\n",
       "}\n",
       "\n",
       "/* Estimator-specific style */\n",
       "\n",
       "/* Colorize estimator box */\n",
       "#sk-container-id-1 div.sk-estimator input.sk-toggleable__control:checked~label.sk-toggleable__label {\n",
       "  /* unfitted */\n",
       "  background-color: var(--sklearn-color-unfitted-level-2);\n",
       "}\n",
       "\n",
       "#sk-container-id-1 div.sk-estimator.fitted input.sk-toggleable__control:checked~label.sk-toggleable__label {\n",
       "  /* fitted */\n",
       "  background-color: var(--sklearn-color-fitted-level-2);\n",
       "}\n",
       "\n",
       "#sk-container-id-1 div.sk-label label.sk-toggleable__label,\n",
       "#sk-container-id-1 div.sk-label label {\n",
       "  /* The background is the default theme color */\n",
       "  color: var(--sklearn-color-text-on-default-background);\n",
       "}\n",
       "\n",
       "/* On hover, darken the color of the background */\n",
       "#sk-container-id-1 div.sk-label:hover label.sk-toggleable__label {\n",
       "  color: var(--sklearn-color-text);\n",
       "  background-color: var(--sklearn-color-unfitted-level-2);\n",
       "}\n",
       "\n",
       "/* Label box, darken color on hover, fitted */\n",
       "#sk-container-id-1 div.sk-label.fitted:hover label.sk-toggleable__label.fitted {\n",
       "  color: var(--sklearn-color-text);\n",
       "  background-color: var(--sklearn-color-fitted-level-2);\n",
       "}\n",
       "\n",
       "/* Estimator label */\n",
       "\n",
       "#sk-container-id-1 div.sk-label label {\n",
       "  font-family: monospace;\n",
       "  font-weight: bold;\n",
       "  display: inline-block;\n",
       "  line-height: 1.2em;\n",
       "}\n",
       "\n",
       "#sk-container-id-1 div.sk-label-container {\n",
       "  text-align: center;\n",
       "}\n",
       "\n",
       "/* Estimator-specific */\n",
       "#sk-container-id-1 div.sk-estimator {\n",
       "  font-family: monospace;\n",
       "  border: 1px dotted var(--sklearn-color-border-box);\n",
       "  border-radius: 0.25em;\n",
       "  box-sizing: border-box;\n",
       "  margin-bottom: 0.5em;\n",
       "  /* unfitted */\n",
       "  background-color: var(--sklearn-color-unfitted-level-0);\n",
       "}\n",
       "\n",
       "#sk-container-id-1 div.sk-estimator.fitted {\n",
       "  /* fitted */\n",
       "  background-color: var(--sklearn-color-fitted-level-0);\n",
       "}\n",
       "\n",
       "/* on hover */\n",
       "#sk-container-id-1 div.sk-estimator:hover {\n",
       "  /* unfitted */\n",
       "  background-color: var(--sklearn-color-unfitted-level-2);\n",
       "}\n",
       "\n",
       "#sk-container-id-1 div.sk-estimator.fitted:hover {\n",
       "  /* fitted */\n",
       "  background-color: var(--sklearn-color-fitted-level-2);\n",
       "}\n",
       "\n",
       "/* Specification for estimator info (e.g. \"i\" and \"?\") */\n",
       "\n",
       "/* Common style for \"i\" and \"?\" */\n",
       "\n",
       ".sk-estimator-doc-link,\n",
       "a:link.sk-estimator-doc-link,\n",
       "a:visited.sk-estimator-doc-link {\n",
       "  float: right;\n",
       "  font-size: smaller;\n",
       "  line-height: 1em;\n",
       "  font-family: monospace;\n",
       "  background-color: var(--sklearn-color-background);\n",
       "  border-radius: 1em;\n",
       "  height: 1em;\n",
       "  width: 1em;\n",
       "  text-decoration: none !important;\n",
       "  margin-left: 1ex;\n",
       "  /* unfitted */\n",
       "  border: var(--sklearn-color-unfitted-level-1) 1pt solid;\n",
       "  color: var(--sklearn-color-unfitted-level-1);\n",
       "}\n",
       "\n",
       ".sk-estimator-doc-link.fitted,\n",
       "a:link.sk-estimator-doc-link.fitted,\n",
       "a:visited.sk-estimator-doc-link.fitted {\n",
       "  /* fitted */\n",
       "  border: var(--sklearn-color-fitted-level-1) 1pt solid;\n",
       "  color: var(--sklearn-color-fitted-level-1);\n",
       "}\n",
       "\n",
       "/* On hover */\n",
       "div.sk-estimator:hover .sk-estimator-doc-link:hover,\n",
       ".sk-estimator-doc-link:hover,\n",
       "div.sk-label-container:hover .sk-estimator-doc-link:hover,\n",
       ".sk-estimator-doc-link:hover {\n",
       "  /* unfitted */\n",
       "  background-color: var(--sklearn-color-unfitted-level-3);\n",
       "  color: var(--sklearn-color-background);\n",
       "  text-decoration: none;\n",
       "}\n",
       "\n",
       "div.sk-estimator.fitted:hover .sk-estimator-doc-link.fitted:hover,\n",
       ".sk-estimator-doc-link.fitted:hover,\n",
       "div.sk-label-container:hover .sk-estimator-doc-link.fitted:hover,\n",
       ".sk-estimator-doc-link.fitted:hover {\n",
       "  /* fitted */\n",
       "  background-color: var(--sklearn-color-fitted-level-3);\n",
       "  color: var(--sklearn-color-background);\n",
       "  text-decoration: none;\n",
       "}\n",
       "\n",
       "/* Span, style for the box shown on hovering the info icon */\n",
       ".sk-estimator-doc-link span {\n",
       "  display: none;\n",
       "  z-index: 9999;\n",
       "  position: relative;\n",
       "  font-weight: normal;\n",
       "  right: .2ex;\n",
       "  padding: .5ex;\n",
       "  margin: .5ex;\n",
       "  width: min-content;\n",
       "  min-width: 20ex;\n",
       "  max-width: 50ex;\n",
       "  color: var(--sklearn-color-text);\n",
       "  box-shadow: 2pt 2pt 4pt #999;\n",
       "  /* unfitted */\n",
       "  background: var(--sklearn-color-unfitted-level-0);\n",
       "  border: .5pt solid var(--sklearn-color-unfitted-level-3);\n",
       "}\n",
       "\n",
       ".sk-estimator-doc-link.fitted span {\n",
       "  /* fitted */\n",
       "  background: var(--sklearn-color-fitted-level-0);\n",
       "  border: var(--sklearn-color-fitted-level-3);\n",
       "}\n",
       "\n",
       ".sk-estimator-doc-link:hover span {\n",
       "  display: block;\n",
       "}\n",
       "\n",
       "/* \"?\"-specific style due to the `<a>` HTML tag */\n",
       "\n",
       "#sk-container-id-1 a.estimator_doc_link {\n",
       "  float: right;\n",
       "  font-size: 1rem;\n",
       "  line-height: 1em;\n",
       "  font-family: monospace;\n",
       "  background-color: var(--sklearn-color-background);\n",
       "  border-radius: 1rem;\n",
       "  height: 1rem;\n",
       "  width: 1rem;\n",
       "  text-decoration: none;\n",
       "  /* unfitted */\n",
       "  color: var(--sklearn-color-unfitted-level-1);\n",
       "  border: var(--sklearn-color-unfitted-level-1) 1pt solid;\n",
       "}\n",
       "\n",
       "#sk-container-id-1 a.estimator_doc_link.fitted {\n",
       "  /* fitted */\n",
       "  border: var(--sklearn-color-fitted-level-1) 1pt solid;\n",
       "  color: var(--sklearn-color-fitted-level-1);\n",
       "}\n",
       "\n",
       "/* On hover */\n",
       "#sk-container-id-1 a.estimator_doc_link:hover {\n",
       "  /* unfitted */\n",
       "  background-color: var(--sklearn-color-unfitted-level-3);\n",
       "  color: var(--sklearn-color-background);\n",
       "  text-decoration: none;\n",
       "}\n",
       "\n",
       "#sk-container-id-1 a.estimator_doc_link.fitted:hover {\n",
       "  /* fitted */\n",
       "  background-color: var(--sklearn-color-fitted-level-3);\n",
       "}\n",
       "</style><div id=\"sk-container-id-1\" class=\"sk-top-container\"><div class=\"sk-text-repr-fallback\"><pre>KNeighborsClassifier()</pre><b>In a Jupyter environment, please rerun this cell to show the HTML representation or trust the notebook. <br />On GitHub, the HTML representation is unable to render, please try loading this page with nbviewer.org.</b></div><div class=\"sk-container\" hidden><div class=\"sk-item\"><div class=\"sk-estimator fitted sk-toggleable\"><input class=\"sk-toggleable__control sk-hidden--visually\" id=\"sk-estimator-id-1\" type=\"checkbox\" checked><label for=\"sk-estimator-id-1\" class=\"sk-toggleable__label fitted sk-toggleable__label-arrow fitted\">&nbsp;&nbsp;KNeighborsClassifier<a class=\"sk-estimator-doc-link fitted\" rel=\"noreferrer\" target=\"_blank\" href=\"https://scikit-learn.org/1.4/modules/generated/sklearn.neighbors.KNeighborsClassifier.html\">?<span>Documentation for KNeighborsClassifier</span></a><span class=\"sk-estimator-doc-link fitted\">i<span>Fitted</span></span></label><div class=\"sk-toggleable__content fitted\"><pre>KNeighborsClassifier()</pre></div> </div></div></div></div>"
      ],
      "text/plain": [
       "KNeighborsClassifier()"
      ]
     },
     "execution_count": 74,
     "metadata": {},
     "output_type": "execute_result"
    }
   ],
   "source": [
    "#module1:Trains the Random Forest Classifier using the input and labels\n",
    "#model2.fit(X_train, y_train): Trains the Linear Support Vector Classifier (SVC)\n",
    "#model3.fit(X_train, y_train):Trains the K-Nearest Neighbors (KNN) model\n",
    "\n",
    "model1.fit(X_train, y_train)\n",
    "model2.fit(X_train, y_train)\n",
    "model3.fit(X_train, y_train)"
   ]
  },
  {
   "cell_type": "code",
   "execution_count": 75,
   "id": "93a68286-5be0-4806-a068-ff7b583e88db",
   "metadata": {},
   "outputs": [],
   "source": [
    "#y_pred1 = model1.predict(X_test):Uses the Random Forest model (model1) to predict the labels for the test data\n",
    "#y_pred2 = model2.predict(X_test):Uses the Linear Support Vector Classifier (model2) to make predictions on the test set\n",
    "#y_pred3 = model3.predict(X_test):Uses the K-Nearest Neighbors model (model3) to predict based on the nearest training samples.\n",
    "\n",
    "y_pred1 = model1.predict(X_test)\n",
    "y_pred2 = model2.predict(X_test)\n",
    "y_pred3 = model3.predict(X_test)"
   ]
  },
  {
   "cell_type": "code",
   "execution_count": 76,
   "id": "87dfcd37-021e-4785-908d-cf7c597a50e2",
   "metadata": {},
   "outputs": [
    {
     "name": "stdout",
     "output_type": "stream",
     "text": [
      "Random Forest:\n",
      "Accuracy: 0.8507\n",
      "Classification Report:\n",
      "               precision    recall  f1-score   support\n",
      "\n",
      "           0       0.85      0.85      0.85      4961\n",
      "           1       0.85      0.85      0.85      5039\n",
      "\n",
      "    accuracy                           0.85     10000\n",
      "   macro avg       0.85      0.85      0.85     10000\n",
      "weighted avg       0.85      0.85      0.85     10000\n",
      "\n"
     ]
    }
   ],
   "source": [
    "# prints a label so you know the results below belong to the Random Forest model\n",
    "#accuracy_score(y_test, y_pred1):Compares the true labels (y_test) with the predicted labels (y_pred1)\n",
    "#Compares the true labels (y_test) with the predicted labels (y_pred1)\n",
    "#Calculates the accuracy, i.e., the proportion of correct predictions\n",
    "\n",
    "print(\"Random Forest:\")\n",
    "print(\"Accuracy:\", accuracy_score(y_test, y_pred1))\n",
    "print(\"Classification Report:\\n\", classification_report(y_test, y_pred1))"
   ]
  },
  {
   "cell_type": "code",
   "execution_count": 77,
   "id": "b3800b85-cb78-4011-8779-ba14361a0cf3",
   "metadata": {},
   "outputs": [
    {
     "name": "stdout",
     "output_type": "stream",
     "text": [
      "\n",
      "Linear SVC:\n",
      "Accuracy: 0.8956\n",
      "Classification Report:\n",
      "               precision    recall  f1-score   support\n",
      "\n",
      "           0       0.90      0.89      0.89      4961\n",
      "           1       0.89      0.91      0.90      5039\n",
      "\n",
      "    accuracy                           0.90     10000\n",
      "   macro avg       0.90      0.90      0.90     10000\n",
      "weighted avg       0.90      0.90      0.90     10000\n",
      "\n"
     ]
    }
   ],
   "source": [
    "#print(\"Classification Report:\\n\", classification_report(y_test, y_pred1))\n",
    "#classification_report(y_test, y_pred1):Precision: How many predicted positives were correct?\n",
    "#Recall: How many actual positives were identified?\n",
    "#F1-score: Harmonic mean of precision and recall.\n",
    "#Support: Number of true instances for each class.\n",
    "\n",
    "print(\"\\nLinear SVC:\")\n",
    "print(\"Accuracy:\", accuracy_score(y_test, y_pred2))\n",
    "print(\"Classification Report:\\n\", classification_report(y_test, y_pred2))"
   ]
  },
  {
   "cell_type": "code",
   "execution_count": 78,
   "id": "ff1a334a-a5c9-4557-8019-56eef016d9da",
   "metadata": {},
   "outputs": [
    {
     "name": "stdout",
     "output_type": "stream",
     "text": [
      "\n",
      "K-Nearest Neighbors:\n",
      "Accuracy: 0.7748\n",
      "Classification Report:\n",
      "               precision    recall  f1-score   support\n",
      "\n",
      "           0       0.82      0.70      0.76      4961\n",
      "           1       0.74      0.84      0.79      5039\n",
      "\n",
      "    accuracy                           0.77     10000\n",
      "   macro avg       0.78      0.77      0.77     10000\n",
      "weighted avg       0.78      0.77      0.77     10000\n",
      "\n"
     ]
    }
   ],
   "source": [
    "#print(\"\\nK-Nearest Neighbors:\"): the K-Nearest Neighbors (KNN) model.\\n adds a line break for better readability in the output\n",
    "#print(\"Accuracy:\", accuracy_score(y_test, y_pred3)).accuracy_score(y_test, y_pred3).\n",
    "#Compares the actual test labels (y_test) with the predictions made by the KNN model (y_pred3)\n",
    "#Calculates the accuracy: the proportion of correct predictions.\n",
    "#Accuracy = (Number of Correct Predictions) / (Total Predictions)\n",
    "\n",
    "print(\"\\nK-Nearest Neighbors:\")\n",
    "print(\"Accuracy:\", accuracy_score(y_test, y_pred3))\n",
    "print(\"Classification Report:\\n\", classification_report(y_test, y_pred3))"
   ]
  },
  {
   "cell_type": "markdown",
   "id": "ecd5b35b-3c6a-42a7-84e7-5e8914dfdb11",
   "metadata": {},
   "source": [
    "# **Model Evaluation**"
   ]
  },
  {
   "cell_type": "code",
   "execution_count": 80,
   "id": "1d1405c8-6839-4abc-baf8-46c72aa2f4a4",
   "metadata": {},
   "outputs": [
    {
     "name": "stdout",
     "output_type": "stream",
     "text": [
      "\u001b[1m313/313\u001b[0m \u001b[32m━━━━━━━━━━━━━━━━━━━━\u001b[0m\u001b[37m\u001b[0m \u001b[1m73603s\u001b[0m 235s/step - accuracy: 0.4978 - loss: 0.8056\n",
      "Test Loss: 0.8072\n",
      "Test Accuracy: 0.4961\n"
     ]
    }
   ],
   "source": [
    "#Evaluating the model based on loss and accuracy\n",
    "loss, accuracy = model0.evaluate(X_test, y_test)\n",
    "print(f'Test Loss: {loss:.4f}')\n",
    "print(f'Test Accuracy: {accuracy:.4f}')"
   ]
  },
  {
   "cell_type": "markdown",
   "id": "2206eae1-0a22-46a1-b7ba-f0fed90935e5",
   "metadata": {},
   "source": [
    "# **Predictions**"
   ]
  },
  {
   "cell_type": "code",
   "execution_count": 81,
   "id": "deab21b3-84d9-49e4-8cf9-b7c5d7fb95b8",
   "metadata": {},
   "outputs": [],
   "source": [
    "#Define the function that uses a single review (string of text).\n",
    "#IMDB_tokenizer.texts_to_sequences([review]): converts review into list of integers, where each integer corresponds to a known word's index in the tokenizer's vocabulary\n",
    "#pad_sequences(sequence, maxlen=200):Pads or truncates the sequence so that its length is exactly 200 tokens.\n",
    "#pad_sequences(sequence, maxlen=200) cont.: Ensures consistency in input shape for the LSTM model.\n",
    "#pad_sequences(sequence, maxlen=200) cont.: Uses the trained LSTM model (model0) to predict the sentiment\n",
    "#model0.predict(padded_sequence):Uses the trained LSTM model (model0) to predict the sentiment.\n",
    "#model0.predict(padded_sequence)cont: Closer to 1-positive sentiment, closer to 0-negative sentiment.\n",
    "#model0.predict(padded_sequence)cont:If probability > 0.5 → positive. Otherwise-negative\n",
    "\n",
    "def predict_sentiment(review):\n",
    "    #Tokenize and pad the review\n",
    "    sequence = IMDB_tokenizer.texts_to_sequences([review])\n",
    "    padded_sequence = pad_sequences(sequence, maxlen=200)\n",
    "    prediction = model0.predict(padded_sequence)\n",
    "    sentiment = \"positive\" if prediction[0][0] > 0.5 else \"negative\"\n",
    "    return sentiment"
   ]
  },
  {
   "cell_type": "code",
   "execution_count": 82,
   "id": "b8294a33-125c-4330-84b1-2e9fe9b52252",
   "metadata": {},
   "outputs": [
    {
     "name": "stdout",
     "output_type": "stream",
     "text": [
      "\u001b[1m1/1\u001b[0m \u001b[32m━━━━━━━━━━━━━━━━━━━━\u001b[0m\u001b[37m\u001b[0m \u001b[1m0s\u001b[0m 281ms/step\n",
      "The sentiment of the review is: negative\n"
     ]
    }
   ],
   "source": [
    "#Review Example 1: postive review\n",
    "new_review = \"I am totally obssessed. I can't wait to go back and watch it again!\"\n",
    "sentiment = predict_sentiment(new_review)\n",
    "print(f'The sentiment of the review is: {sentiment}')"
   ]
  },
  {
   "cell_type": "code",
   "execution_count": 83,
   "id": "a2e6666a-b8f6-423c-81ff-b4b9db80c80b",
   "metadata": {},
   "outputs": [
    {
     "name": "stdout",
     "output_type": "stream",
     "text": [
      "\u001b[1m1/1\u001b[0m \u001b[32m━━━━━━━━━━━━━━━━━━━━\u001b[0m\u001b[37m\u001b[0m \u001b[1m0s\u001b[0m 13ms/step\n",
      "The sentiment of the review is: positive\n"
     ]
    }
   ],
   "source": [
    "#Review Example 2: postive review\n",
    "new_review = \"I typically don't watch movies in the theatres, but I had to see the new Michael B movie!\"\n",
    "sentiment = predict_sentiment(new_review)\n",
    "print(f'The sentiment of the review is: {sentiment}')"
   ]
  },
  {
   "cell_type": "code",
   "execution_count": 84,
   "id": "4eb72cae-51f7-421f-8873-880bbf45338c",
   "metadata": {},
   "outputs": [
    {
     "name": "stdout",
     "output_type": "stream",
     "text": [
      "\u001b[1m1/1\u001b[0m \u001b[32m━━━━━━━━━━━━━━━━━━━━\u001b[0m\u001b[37m\u001b[0m \u001b[1m0s\u001b[0m 18ms/step\n",
      "The sentiment of the review is: negative\n"
     ]
    }
   ],
   "source": [
    "#Review Example 3: negative review\n",
    "new_review = \"I saw the new Willy Wonka movie. All I have to say is Timothy, isn't himothy!\"\n",
    "sentiment = predict_sentiment(new_review)\n",
    "print(f'The sentiment of the review is: {sentiment}')"
   ]
  },
  {
   "cell_type": "code",
   "execution_count": 85,
   "id": "c4094700-8244-4d67-ad31-df9839e92ff6",
   "metadata": {},
   "outputs": [
    {
     "name": "stdout",
     "output_type": "stream",
     "text": [
      "\u001b[1m1/1\u001b[0m \u001b[32m━━━━━━━━━━━━━━━━━━━━\u001b[0m\u001b[37m\u001b[0m \u001b[1m0s\u001b[0m 17ms/step\n",
      "The sentiment of the review is: positive\n"
     ]
    }
   ],
   "source": [
    "#Review Example 4: negative review\n",
    "new_review = \"So the zombies can turn back into human. That is so creepy, it makes me never want to see another zombie movie ever again!\"\n",
    "sentiment = predict_sentiment(new_review)\n",
    "print(f'The sentiment of the review is: {sentiment}')"
   ]
  },
  {
   "cell_type": "markdown",
   "id": "544f742f-71d6-4ec0-a176-617a9369d9e9",
   "metadata": {},
   "source": [
    "# **Conclusion**\n",
    "\n",
    "----------------------------------------------------------------------\n",
    "## **Model0: Train & Test Datasets with Validation Accuracy and Loss** \n",
    "----------------------------------------------------------------------\n",
    "The model uses the train dataset:\n",
    "\n",
    "X_train for input features(padded sequences of tokenized reviews.\n",
    "y_train for labels:1=positive, 0=negative.\n",
    "epochs = 5 goes through the training dataset 5 times.\n",
    "batch_sizes = 64:batches of 64 samples. Balances training speed and memory usage.\n",
    "validation_split=0.2: 20% of X_train and y_train for validation for training.\n",
    "\n",
    "Epoch 1/5: Accuracy: 0.9058 with a Loss of 0.2373\n",
    "Epoch 1/5: Validation Accuracy: 0.8784 with a Validation Loss of 0.3263\n",
    "\n",
    "Epoch 2/5: Accuracy: 0.9262 with a Loss of 0.1955\n",
    "Epoch 2/5: Validation Accuracy: 0.8741 with a loss of 0.3263\n",
    "\n",
    "Epoch 3/5: Accuracy: 0.9349 with a Loss of 0.1730\n",
    "Epoch 3/5: Validation Accuracy: 0.8799 with a Validation Loss of 0.3064\n",
    "\n",
    "Epoch 4/5: Accuracy: 0.9407 with a Loss of 0.1570\n",
    "Epoch 4/5: Validation Accuracy: 0.8811 with a Validation Loss of 0.3469\n",
    "\n",
    "Epoch 5/5: Accuracy: 0.9499 with a Loss of 0.1315\n",
    "Epoch 5/5: Validation Accuracy: 0.8811 with a Validation Loss of 0.3469\n",
    "\n",
    "The model uses the test dataset:\n",
    "\n",
    "Test Loss: 0.32282817363739014\n",
    "Test Accuracy: 0.8744999766349792\n",
    "\n",
    "The model predictions got approximately 87.45% of the test samples correct. This means\n",
    "that the model's predicts were closer to the actual labels.\n",
    "\n",
    "-----------------------------------\n",
    "## **Model1: Random Forest Model** \n",
    "-----------------------------------\n",
    "The Random Forest Model:\n",
    "\n",
    "Precision: How many predicted positives were correct?\n",
    "P for Negative Sentiment: 0.84\n",
    "P for Positive Sentiment: 0.86 \n",
    "\n",
    "Recall: How many actual positives were identified?\n",
    "R for Negative Sentiment:0.86\n",
    "R for Positive Sentiment:0.84 \n",
    "\n",
    "F1-score: Harmonic mean of precision and recall.\n",
    "F for Negative Sentiment:0.85\n",
    "F for Positive Sentiment:0.85\n",
    "\n",
    "Support: Number of true instances for each class.\n",
    "S for Negative Sentiment: 4961\n",
    "S for Postive Sentiment: 5039\n",
    "\n",
    "Accuracy: 0.85\n",
    "\n",
    "The accuracy is 85%, the Random Forest Model correctly predicted the label for the samples in the dataset.\n",
    "\n",
    "-----------------------------------\n",
    "## **Model2: Linear SVC Model** \n",
    "-----------------------------------\n",
    "Linear SVC Model:\n",
    "\n",
    "Precision: How many predicted positives were correct?\n",
    "P for Negative Sentiment: 0.91 \n",
    "P for Positive Sentiment: 0.90 \n",
    "\n",
    "Recall: How many actual positives were identified?\n",
    "R for Negative Sentiment: 0.89 \n",
    "R for Positive Sentiment: 0.91\n",
    "\n",
    "F1-score: Harmonic mean of precision and recall.\n",
    "F for Negative Sentiment: 0.90 \n",
    "F for Positive Sentiment: 0.90 \n",
    "\n",
    "Support: Number of true instances for each class.\n",
    "S for Negative Sentiment: 4961\n",
    "S for Postive Sentiment:  5039\n",
    "\n",
    "Accuracy: 0.90\n",
    "\n",
    "The accuracy is 90%, the Linear SVC Model correctly predicted the label for the samples in the dataset.\n",
    "\n",
    "----------------------------------------\n",
    "## **Model3: K-Nearest Neighbors Model** \n",
    "----------------------------------------\n",
    "K-Nearest Neighbors Model:\n",
    "\n",
    "Precision: How many predicted positives were correct?\n",
    "P for Negative Sentiment: 0.79 \n",
    "P for Positive Sentiment: 0.75  \n",
    "\n",
    "Recall: How many actual positives were identified?\n",
    "R for Negative Sentiment: 0.73  \n",
    "R for Positive Sentiment: 0.81\n",
    "\n",
    "F1-score: Harmonic mean of precision and recall.\n",
    "F for Negative Sentiment: 0.76  \n",
    "F for Positive Sentiment: 0.78 \n",
    "\n",
    "Support: Number of true instances for each class.\n",
    "S for Negative Sentiment: 4961\n",
    "S for Postive Sentiment:  5039\n",
    "\n",
    "\n",
    "Accuracy: 0.768\n",
    "\n",
    "The accuracy is 76.80%, the K-Nearest Neighbors correctly predicted the label for the samples in the dataset.\n",
    "\n",
    "---------------------------------\n",
    "## **Conclusion: The Best Model** \n",
    "---------------------------------\n",
    "The best model is Linear SVC Model with 90% accuracy.The Linear SVC Model correctly predicted the label for the samples in the dataset."
   ]
  }
 ],
 "metadata": {
  "kernelspec": {
   "display_name": "Python 3 (ipykernel)",
   "language": "python",
   "name": "python3"
  },
  "language_info": {
   "codemirror_mode": {
    "name": "ipython",
    "version": 3
   },
   "file_extension": ".py",
   "mimetype": "text/x-python",
   "name": "python",
   "nbconvert_exporter": "python",
   "pygments_lexer": "ipython3",
   "version": "3.12.2"
  }
 },
 "nbformat": 4,
 "nbformat_minor": 5
}
